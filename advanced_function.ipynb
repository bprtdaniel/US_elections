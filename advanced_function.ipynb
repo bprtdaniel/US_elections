{
 "cells": [
  {
   "cell_type": "markdown",
   "metadata": {},
   "source": [
    "# Advanced Function\n",
    "\n",
    "This notebook aims to develop the basic function found in \"function\", so the output can be further restructed by (1) Maximum threshold of people that live in all points of a cluster, combined and (2) a maximum threshold of distance travelled that is necessary to visit each point exactly once.\n"
   ]
  },
  {
   "cell_type": "markdown",
   "metadata": {},
   "source": [
    "## Disclaimer\n",
    "\n",
    "This is a work in progress. The functions currently run if none of the thresholds are exceeded and prints an error message if otherwise. The functions don't currently have a loop that adjusts the parameter of k (number of groups) as longs as necessary for all thresholds to be avoided. This needs to be done manually, aso of right now."
   ]
  },
  {
   "cell_type": "markdown",
   "metadata": {},
   "source": [
    "Import modules"
   ]
  },
  {
   "cell_type": "code",
   "execution_count": null,
   "metadata": {},
   "outputs": [],
   "source": [
    "import numpy as np\n",
    "import requests\n",
    "from sklearn.cluster import KMeans"
   ]
  },
  {
   "cell_type": "markdown",
   "metadata": {},
   "source": [
    "Define input data, appended by a fictional amount of people per point. The mean of these points add up to 2, which is an estimation for the demo to work. "
   ]
  },
  {
   "cell_type": "code",
   "execution_count": null,
   "metadata": {},
   "outputs": [],
   "source": [
    "input_data = [\n",
    "    {\"latitude\": 52.5163, \"longitude\": 13.3777, \"people\": 1},\n",
    "    {\"latitude\": 52.5200, \"longitude\": 13.4049, \"people\": 3},\n",
    "    {\"latitude\": 52.5244, \"longitude\": 13.4050, \"people\": 2},\n",
    "    {\"latitude\": 52.5186, \"longitude\": 13.3759, \"people\": 2},\n",
    "    {\"latitude\": 52.5138, \"longitude\": 13.3928, \"people\": 1},\n",
    "    {\"latitude\": 52.5206, \"longitude\": 13.2951, \"people\": 3},\n",
    "    {\"latitude\": 52.5219, \"longitude\": 13.4132, \"people\": 2},\n",
    "    {\"latitude\": 52.5034, \"longitude\": 13.4375, \"people\": 1},\n",
    "    {\"latitude\": 52.5043, \"longitude\": 13.3325, \"people\": 2},\n",
    "    {\"latitude\": 52.5336, \"longitude\": 13.3818, \"people\": 3}\n",
    "]"
   ]
  },
  {
   "cell_type": "markdown",
   "metadata": {},
   "source": [
    "## Define Advanced Function:"
   ]
  },
  {
   "cell_type": "code",
   "execution_count": null,
   "metadata": {},
   "outputs": [],
   "source": [
    "# Initaite function to take input data coordinates, set an amount of groups, and a maximum amount of people per group\n",
    "def cluster_voters(input_data, k, max_people_per_cluster):\n",
    "    # Set origins and destiantions for the Distance Matrix API request\n",
    "    origins = \"|\".join([f\"{point['latitude']},{point['longitude']}\" for point in input_data])\n",
    "    destinations = \"|\".join([f\"{point['latitude']},{point['longitude']}\" for point in input_data])\n",
    "\n",
    "    # Set Distance Matrix API url\n",
    "    url_distance = \"https://maps.googleapis.com/maps/api/distancematrix/json\"\n",
    "\n",
    "    # Set parameters and response, call the API and save the result\n",
    "    params = {\n",
    "        \"origins\": origins,\n",
    "        \"destinations\": destinations,\n",
    "        \"key\": \"INSERT_API_KEY\"\n",
    "    }\n",
    "    response = requests.get(url_distance, params=params)\n",
    "    api_result = response.json()\n",
    "\n",
    "    # Create a distance matrix from the API result\n",
    "    distance_matrix = []\n",
    "    for row in api_result['rows']:\n",
    "        row_distances = [element['distance']['value'] for element in row['elements']]\n",
    "        distance_matrix.append(row_distances)\n",
    "\n",
    "    distance_matrix = np.array(distance_matrix)\n",
    "\n",
    "    # Use the KMeans algorithm to cluster the data\n",
    "    kmeans = KMeans(n_clusters=k, random_state=0).fit(distance_matrix)\n",
    "    \n",
    "    cluster_labels = kmeans.labels_\n",
    "\n",
    "    # Create a list of clusters, where each cluster is a list of points\n",
    "    clusters = [[] for _ in range(k)]\n",
    "    for i, point in enumerate(input_data):\n",
    "        clusters[cluster_labels[i]].append(point)\n",
    "\n",
    "    # Filter out clusters that exceed the maximum amount of people, return the filtered clusters\n",
    "    filtered_clusters = []\n",
    "    for cluster in clusters:\n",
    "        # Access each point within a cluster and sum its people value\n",
    "        people_count = sum(point['people'] for point in cluster)\n",
    "        # Print error message if sum people value is above the maximum amount of people per cluster\n",
    "        # Otherwise, append the cluster to the filtered clusters list\n",
    "        if people_count > max_people_per_cluster:\n",
    "            print(f\"Cluster with {people_count} people exceeds the maximum of {max_people_per_cluster}\")\n",
    "        else:\n",
    "            filtered_clusters.append((cluster, kmeans.predict(distance_matrix)))\n",
    "    return filtered_clusters\n"
   ]
  },
  {
   "cell_type": "markdown",
   "metadata": {},
   "source": [
    "Run the function, set arguments:"
   ]
  },
  {
   "cell_type": "code",
   "execution_count": null,
   "metadata": {},
   "outputs": [],
   "source": [
    "# This only runs and retuns the clusters, if each group is below the maximum amount of people\n",
    "cluster_test = cluster_voters(input_data, 2, 20)\n",
    "print(cluster_test)"
   ]
  },
  {
   "cell_type": "markdown",
   "metadata": {},
   "source": [
    "**Adding the Maximum Distance Travelled Threshold**"
   ]
  },
  {
   "cell_type": "code",
   "execution_count": null,
   "metadata": {},
   "outputs": [],
   "source": [
    "# Set arguments of the clusters obtained above, the API key and the maximum distance threshold\n",
    "def check_distance(clusters, api_key, max_distance_threshold):\n",
    "    # Initiate an empty list to store the filtered clusters\n",
    "    filtered_clusters = []\n",
    "    # Access the clusters obtained in the function above\n",
    "    for cluster, _ in clusters:\n",
    "        # For the Google Maps Route API, we need to specify the origin, destination and waypoints\n",
    "        waypoints = \"|\".join([f\"{point['latitude']},{point['longitude']}\" for point in cluster])\n",
    "        origin = f\"{cluster[0]['latitude']},{cluster[0]['longitude']}\"\n",
    "        destination = f\"{cluster[-1]['latitude']},{cluster[-1]['longitude']}\"\n",
    "        # Set the url for this API, define the parameters and call the API, save the result\n",
    "        url_route = \"https://maps.googleapis.com/maps/api/directions/json\"\n",
    "        params_route = {\n",
    "            \"origin\": origin,\n",
    "            \"destination\": destination,\n",
    "            \"waypoints\": waypoints,\n",
    "            \"key\": api_key\n",
    "        }\n",
    "        response = requests.get(url_route, params=params_route)\n",
    "        data = response.json()\n",
    "        \n",
    "        # Initiate the total distance as 0, and iterate through the routes and legs to sum the distances. \"Legs\" are given by the API result as the distance betweene two waypoints.\n",
    "        # To get the full distance of the route, we need to sum the distances of all legs.\n",
    "        total_distance = 0\n",
    "        for route in data['routes']:\n",
    "            for leg in route['legs']:\n",
    "                total_distance += leg['distance']['value']\n",
    "        \n",
    "        # Print an error message if the total distance exceeds the maximum distance threshold, otherwise append the cluster to the filtered clusters list\n",
    "        if total_distance > max_distance_threshold * 1000:\n",
    "            print(f'Cluster with {total_distance} meters exceeds the maximum of {max_distance_threshold} meters')\n",
    "        else:\n",
    "            filtered_clusters.append(cluster)\n",
    "    return filtered_clusters\n"
   ]
  },
  {
   "cell_type": "code",
   "execution_count": null,
   "metadata": {},
   "outputs": [],
   "source": [
    "# Run the function with the clusters obtained above, the API key and the maximum distance threshold\n",
    "distance_test = check_distance(cluster_test, \"INSERT_API_KEY\", 20)\n",
    "\n",
    "print(distance_test)"
   ]
  }
 ],
 "metadata": {
  "language_info": {
   "name": "python"
  }
 },
 "nbformat": 4,
 "nbformat_minor": 2
}
