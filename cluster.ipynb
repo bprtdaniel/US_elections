{
 "cells": [
  {
   "cell_type": "markdown",
   "metadata": {},
   "source": [
    "# Cluster Project"
   ]
  },
  {
   "cell_type": "markdown",
   "metadata": {},
   "source": [
    "**Scenario**\n",
    "\n",
    "Say we have a set of addresses on a map, which indicate at least one person living there.\n",
    "\n",
    "**Assumptions**\n",
    "\n",
    "For this example code, we assume to have the geolocation coordinates of each address. If not, it is possible to obtain those via the Google Maps Geolocation API.\n",
    "We additionally assume that we have some kind of indicator attached to each point (geolocation) that shows how many people live at this point. For the example code, this is set to a mean of 2 within the example coordinates.\n",
    "\n",
    "**Aim**\n",
    "\n",
    "We want to be able to visit each point within a group once. Hereby, we aim to adhere to a maximum amount of people per point, as well as a maximum amount of distance travelled to visit each point once. Additionally, we set a maximum number of points per group to be respected.\n",
    "\n",
    "**Approach**\n",
    "\n",
    "I combine information from the following to reach the (tentative) aim:\n",
    "1. Google Maps Distance Matrix API\n",
    "    I use this API to calcuate the pairwise-distances between each point from the input coordinates. If I put 10 coordoinates, I expect a 10x10 square Matrix as result, with one row of 0s, the distance to itself.\n",
    "2. Google Maps Route API\n",
    "    This API is called to get the an overview of distance travelled (by car) for each cluster. It is the goal to specify a limit of how much doistance should be allowed to be covered for each group.\n",
    "3. KNN Clustering Algorithm\n",
    "    Last but not least, I apply simple KNN clustering, based on physical distances of each point (given by the Distance Matrix), instead of common Euclidian Distance. Then, I cluster group mmebership for each point, gives a dynamic number of k (number of clusters).\n"
   ]
  },
  {
   "cell_type": "markdown",
   "metadata": {},
   "source": [
    "The following script shows a basic implementation of the KNN algorithm based on physical distance data obtained from the Google Maps Distance Matrix API.\n",
    "This approach does not limit the clusters to a maximum threshold of people per cluster, neither to a maximum distance travelled in order to visit each coordinate point once. \n",
    "These adaptations are evolving and can be found in \"advanced_function\""
   ]
  },
  {
   "cell_type": "markdown",
   "metadata": {},
   "source": [
    "**Import modules** "
   ]
  },
  {
   "cell_type": "code",
   "execution_count": 28,
   "metadata": {},
   "outputs": [],
   "source": [
    "import numpy as np\n",
    "import requests\n",
    "from sklearn.cluster import KMeans\n",
    "import matplotlib.pyplot as plt\n"
   ]
  },
  {
   "cell_type": "markdown",
   "metadata": {},
   "source": [
    "### Google Maps Distance Matrix API"
   ]
  },
  {
   "cell_type": "markdown",
   "metadata": {},
   "source": [
    "**Define the input data**\n",
    "\n",
    "(On an Individual Account, the Google Maps Distance Marix APi can only handel a maximum of 25 points for either the origins or destinations. The entire demo is hence run on a set of 10 input coordinate points, which are set in Berlin, Germany)"
   ]
  },
  {
   "cell_type": "code",
   "execution_count": 19,
   "metadata": {},
   "outputs": [
    {
     "name": "stdout",
     "output_type": "stream",
     "text": [
      "[[0, 2289, 3034, 1270, 2423, 5888, 2863, 5249, 4234, 2650], [2317, 0, 745, 3094, 1663, 8224, 574, 4196, 6570, 3448], [3141, 771, 0, 3917, 2486, 9047, 1345, 4073, 7393, 2712], [1365, 3155, 3695, 0, 3397, 6184, 3729, 6286, 4530, 2782], [1430, 1291, 2036, 2719, 0, 7337, 1865, 3760, 4778, 2904], [6389, 8639, 9384, 6618, 8420, 0, 9213, 11309, 4023, 10892], [3306, 1058, 1006, 4082, 2651, 9213, 0, 3846, 7558, 3460], [4917, 3993, 4306, 6206, 3873, 10824, 3971, 0, 8290, 6665], [4592, 6843, 7588, 4821, 5277, 3537, 7417, 8457, 0, 6794], [3676, 3588, 2633, 2895, 3715, 7922, 4162, 6732, 6805, 0]]\n"
     ]
    }
   ],
   "source": [
    "# Set input coordinates\n",
    "input_data = [\n",
    "    {\"latitude\": 52.5163, \"longitude\": 13.3777},\n",
    "    {\"latitude\": 52.5200, \"longitude\": 13.4049},\n",
    "    {\"latitude\": 52.5244, \"longitude\": 13.4050},\n",
    "    {\"latitude\": 52.5186, \"longitude\": 13.3759},\n",
    "    {\"latitude\": 52.5138, \"longitude\": 13.3928},\n",
    "    {\"latitude\": 52.5206, \"longitude\": 13.2951},\n",
    "    {\"latitude\": 52.5219, \"longitude\": 13.4132},\n",
    "    {\"latitude\": 52.5034, \"longitude\": 13.4375},\n",
    "    {\"latitude\": 52.5043, \"longitude\": 13.3325},\n",
    "    {\"latitude\": 52.5336, \"longitude\": 13.3818}\n",
    "]"
   ]
  },
  {
   "cell_type": "markdown",
   "metadata": {},
   "source": [
    "**Initiate the API Request**"
   ]
  },
  {
   "cell_type": "code",
   "execution_count": null,
   "metadata": {},
   "outputs": [],
   "source": [
    "# Define origins and destination, which are required parameters in the API request\n",
    "origins = \"|\".join([f\"{point['latitude']},{point['longitude']}\" for point in input_data])\n",
    "destinations = \"|\".join([f\"{point['latitude']},{point['longitude']}\" for point in input_data])\n",
    "\n",
    "# Set the url for the Distabce Matrix API\n",
    "url = \"https://maps.googleapis.com/maps/api/distancematrix/json\"\n",
    "\n",
    "# Set the parameters\n",
    "params = {\n",
    "    \"origins\": origins,\n",
    "    \"destinations\": destinations,\n",
    "    \"key\": \"INSERT_API_KEY\"\n",
    "}\n",
    "\n",
    "# Define response and result\n",
    "response = requests.get(url, params=params)\n",
    "api_result = response.json()"
   ]
  },
  {
   "cell_type": "markdown",
   "metadata": {},
   "source": [
    "**Build Matrix**"
   ]
  },
  {
   "cell_type": "code",
   "execution_count": null,
   "metadata": {},
   "outputs": [],
   "source": [
    "# Construct the Matrix as list\n",
    "distance_matrix = []\n",
    "for row in api_result['rows']:\n",
    "    row_distances = [element['distance']['value'] for element in row['elements']]\n",
    "    distance_matrix.append(row_distances)\n",
    "\n",
    "print(distance_matrix)"
   ]
  },
  {
   "cell_type": "code",
   "execution_count": 20,
   "metadata": {},
   "outputs": [
    {
     "name": "stdout",
     "output_type": "stream",
     "text": [
      "[[    0  2289  3034  1270  2423  5888  2863  5249  4234  2650]\n",
      " [ 2317     0   745  3094  1663  8224   574  4196  6570  3448]\n",
      " [ 3141   771     0  3917  2486  9047  1345  4073  7393  2712]\n",
      " [ 1365  3155  3695     0  3397  6184  3729  6286  4530  2782]\n",
      " [ 1430  1291  2036  2719     0  7337  1865  3760  4778  2904]\n",
      " [ 6389  8639  9384  6618  8420     0  9213 11309  4023 10892]\n",
      " [ 3306  1058  1006  4082  2651  9213     0  3846  7558  3460]\n",
      " [ 4917  3993  4306  6206  3873 10824  3971     0  8290  6665]\n",
      " [ 4592  6843  7588  4821  5277  3537  7417  8457     0  6794]\n",
      " [ 3676  3588  2633  2895  3715  7922  4162  6732  6805     0]]\n"
     ]
    }
   ],
   "source": [
    "# Convert list Matrix to numpy 2D-array\n",
    "distance_matrix = np.array(distance_matrix)\n",
    "print(distance_matrix)"
   ]
  },
  {
   "cell_type": "markdown",
   "metadata": {},
   "source": [
    "## KNN Clustering"
   ]
  },
  {
   "cell_type": "code",
   "execution_count": 21,
   "metadata": {},
   "outputs": [
    {
     "name": "stdout",
     "output_type": "stream",
     "text": [
      "Cluster labels: [1 1 1 1 1 0 1 1 0 1]\n"
     ]
    }
   ],
   "source": [
    "# Set k = 2 for the demo due low number of input data\n",
    "k = 2\n",
    "\n",
    "# Fit the KMeans model\n",
    "kmeans = KMeans(n_clusters=k, random_state=0).fit(distance_matrix)\n",
    "\n",
    "# Define and print the associated cluster labels\n",
    "cluster_labels = kmeans.labels_\n",
    "print(\"Cluster labels:\", cluster_labels)"
   ]
  },
  {
   "cell_type": "markdown",
   "metadata": {},
   "source": [
    "## Visualize"
   ]
  },
  {
   "cell_type": "code",
   "execution_count": 22,
   "metadata": {},
   "outputs": [
    {
     "data": {
      "image/png": "[encoded data removed]",
      "text/plain": [
       "<Figure size 640x480 with 1 Axes>"
      ]
     },
     "metadata": {},
     "output_type": "display_data"
    }
   ],
   "source": [
    "\n",
    "plt.scatter(distance_matrix[:, 0], distance_matrix[:, 1], c=cluster_labels, cmap='viridis')\n",
    "\n",
    "# Plot the centroids\n",
    "centroids = kmeans.cluster_centers_\n",
    "plt.scatter(centroids[:, 0], centroids[:, 1], c='red', marker='*', s=300, label='Centroids')\n",
    "\n",
    "plt.xlabel('Feature 1')\n",
    "plt.ylabel('Feature 2')\n",
    "plt.title('KMeans Clustering Result')\n",
    "plt.legend()\n",
    "plt.show()"
   ]
  },
  {
   "cell_type": "markdown",
   "metadata": {},
   "source": [
    "## Build Function to automate:\n",
    "\n",
    "This should return the same clusters and plot as the approach above"
   ]
  },
  {
   "cell_type": "code",
   "execution_count": 23,
   "metadata": {},
   "outputs": [],
   "source": [
    "def cluster_voters(input_data, k):\n",
    "    origins = \"|\".join([f\"{point['latitude']},{point['longitude']}\" for point in input_data])\n",
    "    destinations = \"|\".join([f\"{point['latitude']},{point['longitude']}\" for point in input_data])\n",
    "\n",
    "    url = \"https://maps.googleapis.com/maps/api/distancematrix/json\"\n",
    "\n",
    "    params = {\n",
    "        \"origins\": origins,\n",
    "        \"destinations\": destinations,\n",
    "        \"key\": \"INSERT_API_KEY\"\n",
    "    }\n",
    "    response = requests.get(url, params=params)\n",
    "    api_result = response.json()\n",
    "\n",
    "    distance_matrix = []\n",
    "    for row in api_result['rows']:\n",
    "        row_distances = [element['distance']['value'] for element in row['elements']]\n",
    "        distance_matrix.append(row_distances)\n",
    "\n",
    "    distance_matrix = np.array(distance_matrix)\n",
    "\n",
    "    kmeans = KMeans(n_clusters=k, random_state=0).fit(distance_matrix)\n",
    "\n",
    "    return kmeans.labels_"
   ]
  },
  {
   "cell_type": "code",
   "execution_count": 25,
   "metadata": {},
   "outputs": [
    {
     "name": "stdout",
     "output_type": "stream",
     "text": [
      "[1 1 1 1 1 0 1 1 0 1]\n"
     ]
    }
   ],
   "source": [
    "cluster_labels = cluster_voters(input_data, 2)\n",
    "\n",
    "print(cluster_labels)"
   ]
  },
  {
   "cell_type": "code",
   "execution_count": 27,
   "metadata": {},
   "outputs": [
    {
     "data": {
      "image/png": "[encoded data removed]",
      "text/plain": [
       "<Figure size 640x480 with 1 Axes>"
      ]
     },
     "metadata": {},
     "output_type": "display_data"
    }
   ],
   "source": [
    "# Assuming you already have `cluster_labels` and `distance_matrix` defined\n",
    "\n",
    "# Scatter plot the clusters\n",
    "plt.scatter(distance_matrix[:, 0], distance_matrix[:, 1], c=kmeans.labels_, cmap='viridis')\n",
    "\n",
    "# Plot the centroids\n",
    "centroids = kmeans.cluster_centers_\n",
    "plt.scatter(centroids[:, 0], centroids[:, 1], c='red', marker='*', s=300, label='Centroids')\n",
    "\n",
    "plt.xlabel('Feature 1')\n",
    "plt.ylabel('Feature 2')\n",
    "plt.title('KMeans Clustering Result')\n",
    "plt.legend()\n",
    "plt.show()"
   ]
  }
 ],
 "metadata": {
  "kernelspec": {
   "display_name": "jupyter_kernel",
   "language": "python",
   "name": "jupyter_kernel"
  },
  "language_info": {
   "codemirror_mode": {
    "name": "ipython",
    "version": 3
   },
   "file_extension": ".py",
   "mimetype": "text/x-python",
   "name": "python",
   "nbconvert_exporter": "python",
   "pygments_lexer": "ipython3",
   "version": "3.12.1"
  }
 },
 "nbformat": 4,
 "nbformat_minor": 2
}
